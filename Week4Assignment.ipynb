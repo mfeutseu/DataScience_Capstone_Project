{
 "cells": [
  {
   "cell_type": "markdown",
   "metadata": {},
   "source": [
    "## 1. Description of the problem and discussion of the background"
   ]
  },
  {
   "cell_type": "markdown",
   "metadata": {},
   "source": [
    "#### In this project I'm going to compare the neighborhoods of 3 cities (Toronto, New York and London) and determine how similar or dissimilar they are. Those cities are very diverse and are the financial capitals of their respective countries. Is New York City more like Toronto or London?<br>Let's imagine a scenario where a bank in London, After the brexit, wants to relocate in either New York or Toronto. How can we use data science to recommend them the right place to relocate?  \n"
   ]
  },
  {
   "cell_type": "markdown",
   "metadata": {},
   "source": [
    "## 2. Description of the data and how it will be used to solve the problem"
   ]
  },
  {
   "cell_type": "markdown",
   "metadata": {},
   "source": [
    "#### New York data are available on this location https://geo.nyu.edu/catalog/nyu_2451_34572. <br> We will use the Geocoder Python package to get London and Toronto data.  https://geocoder.readthedocs.io/index.html. <br>For each city, data will consist of Postal Code, Boroughs, Neighborhood, Latitude and Longitude. Those data will be merge in one single dataset and then we will use Foursquare API and K-mean cluster algorithm to segment neighborhoods based on venues. We will then analyze clusters to see which cities have similar neighborhoods. Based on where our fictive bank is located in London, we will be able to recommend best neighborhoods in either New York or Toronto where they can relocate."
   ]
  },
  {
   "cell_type": "code",
   "execution_count": null,
   "metadata": {},
   "outputs": [],
   "source": []
  }
 ],
 "metadata": {
  "kernelspec": {
   "display_name": "Python 3",
   "language": "python",
   "name": "python3"
  },
  "language_info": {
   "codemirror_mode": {
    "name": "ipython",
    "version": 3
   },
   "file_extension": ".py",
   "mimetype": "text/x-python",
   "name": "python",
   "nbconvert_exporter": "python",
   "pygments_lexer": "ipython3",
   "version": "3.6.5"
  }
 },
 "nbformat": 4,
 "nbformat_minor": 2
}
